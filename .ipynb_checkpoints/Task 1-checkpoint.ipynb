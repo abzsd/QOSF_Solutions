{
 "cells": [
  {
   "cell_type": "code",
   "execution_count": 3,
   "metadata": {},
   "outputs": [],
   "source": [
    "import matplotlib.pyplot as plt\n",
    "%matplotlib inline\n",
    "import numpy as np\n",
    "from math import pi"
   ]
  },
  {
   "cell_type": "code",
   "execution_count": 4,
   "metadata": {},
   "outputs": [],
   "source": [
    "from qiskit import QuantumCircuit, ClassicalRegister, QuantumRegister, execute\n",
    "from qiskit.tools.visualization import circuit_drawer\n",
    "from qiskit.quantum_info import state_fidelity\n",
    "from qiskit import BasicAer\n",
    "\n",
    "backend = BasicAer.get_backend('unitary_simulator')"
   ]
  },
  {
   "cell_type": "code",
   "execution_count": 14,
   "metadata": {},
   "outputs": [
    {
     "data": {
      "image/png": "[encoded data removed]",
      "text/plain": [
       "<Figure size 274.303x144.48 with 1 Axes>"
      ]
     },
     "execution_count": 14,
     "metadata": {},
     "output_type": "execute_result"
    }
   ],
   "source": [
    "q = QuantumRegister(1)\n",
    "c = ClassicalRegister(1)\n",
    "qc = QuantumCircuit(q,c)\n",
    "qc.u3(pi,pi,0,q)\n",
    "qc.measure(q,c)\n",
    "qc.draw('mpl')"
   ]
  },
  {
   "cell_type": "code",
   "execution_count": 17,
   "metadata": {},
   "outputs": [
    {
     "data": {
      "text/plain": [
       "{'1': 1024}"
      ]
     },
     "execution_count": 17,
     "metadata": {},
     "output_type": "execute_result"
    }
   ],
   "source": [
    "job = execute(qc, backend)\n",
    "job.result().get_counts(qc)"
   ]
  },
  {
   "cell_type": "code",
   "execution_count": 128,
   "metadata": {},
   "outputs": [
    {
     "data": {
      "image/png": "[encoded data removed]",
      "text/plain": [
       "<Figure size 525.917x264.88 with 1 Axes>"
      ]
     },
     "execution_count": 128,
     "metadata": {},
     "output_type": "execute_result"
    }
   ],
   "source": [
    "n = 1\n",
    "cb = ClassicalRegister(1) #Classical Bit\n",
    "psi = QuantumRegister(n,'q1') #Qubits 1\n",
    "phi = QuantumRegister(n,'q2') #Qubits 2\n",
    "anc = QuantumRegister(1,'anc') #ancilla bit\n",
    "qc = QuantumCircuit(psi,phi,anc,cb)\n",
    "\n",
    "#Initial state defining\n",
    "qc.x(psi)\n",
    "\n",
    "qc.barrier()\n",
    "\n",
    "#SWAP Test code\n",
    "qc.h(anc)\n",
    "for i in range(n):\n",
    "    qc.cswap(anc,psi[i],phi[i])\n",
    "qc.h(anc)\n",
    "qc.measure(anc,cb)\n",
    "qc.draw('mpl')"
   ]
  },
  {
   "cell_type": "code",
   "execution_count": 162,
   "metadata": {},
   "outputs": [
    {
     "name": "stdout",
     "output_type": "stream",
     "text": [
      "0.02400000000000002\n"
     ]
    }
   ],
   "source": [
    "#Backend defining\n",
    "P = 1000\n",
    "backend = BasicAer.get_backend('qasm_simulator')\n",
    "job = execute(qc,backend, shots = 1024,memory=True)\n",
    "count = job.result().get_counts(qc)\n",
    "values= job.result().get_memory()\n",
    "#Calculating the value of s or |<psi|phi>|**2 as P->∞\n",
    "\n",
    "desired_array = [int(numeric_string) for numeric_string in values]\n",
    "count = np.sum(desired_array)\n",
    "#s = (1 - ((2/P)*(count))) #Here the value of s = 1 - 2/P*(summation of measurement values)\n",
    "print(2*(count)/P-1)"
   ]
  },
  {
   "cell_type": "code",
   "execution_count": null,
   "metadata": {},
   "outputs": [],
   "source": []
  },
  {
   "cell_type": "code",
   "execution_count": null,
   "metadata": {},
   "outputs": [],
   "source": []
  }
 ],
 "metadata": {
  "kernelspec": {
   "display_name": "Python 3",
   "language": "python",
   "name": "python3"
  },
  "language_info": {
   "codemirror_mode": {
    "name": "ipython",
    "version": 3
   },
   "file_extension": ".py",
   "mimetype": "text/x-python",
   "name": "python",
   "nbconvert_exporter": "python",
   "pygments_lexer": "ipython3",
   "version": "3.8.5"
  }
 },
 "nbformat": 4,
 "nbformat_minor": 4
}
