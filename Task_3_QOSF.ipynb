{
 "cells": [
  {
   "cell_type": "code",
   "execution_count": 5,
   "metadata": {},
   "outputs": [],
   "source": [
    "q0 = [1,0] #|0> state\n",
    "q1 = [0,1] #|1> state\n",
    "q2 = [0.7071067811865475, 0.7071067811865475] #|+> state\n",
    "q3 = [0.7071067811865475, -0.7071067811865475] #|-> state\n",
    "q4 = [0.7071067811865475, 0+0.7071067811865475j] #|i> state\n",
    "q5 = [0.7071067811865475, 0-0.7071067811865475j] #|-i> state"
   ]
  },
  {
   "cell_type": "code",
   "execution_count": 4,
   "metadata": {},
   "outputs": [
    {
     "name": "stdout",
     "output_type": "stream",
     "text": [
      "[0.5 0.5]\n"
     ]
    }
   ],
   "source": [
    "import numpy as np\n",
    "\n",
    "q4 = np.array([0.7071067811865475+0j, 0-0.7071067811865475j])\n",
    "p4 = np.abs(q4)**2\n",
    "print(p4)"
   ]
  },
  {
   "cell_type": "code",
   "execution_count": 5,
   "metadata": {},
   "outputs": [
    {
     "name": "stdout",
     "output_type": "stream",
     "text": [
      "[0 1 0 0]\n"
     ]
    }
   ],
   "source": [
    "q0 = [1,0]\n",
    "q1 = [0,1]\n",
    "\n",
    "combined_state = np.kron(q0,q1)\n",
    "print(combined_state)"
   ]
  },
  {
   "cell_type": "code",
   "execution_count": 6,
   "metadata": {},
   "outputs": [
    {
     "name": "stdout",
     "output_type": "stream",
     "text": [
      "Initial state:\t [1 0]\n",
      "Final state:\t [0 1]\n"
     ]
    }
   ],
   "source": [
    "import numpy as np\n",
    "# Implementing X gate\n",
    "q0 = np.array([1,0])\n",
    "\n",
    "print(\"Initial state:\\t\",q0)\n",
    "\n",
    "X = np.array([\n",
    "    [0,1],\n",
    "    [1,0]\n",
    "])\n",
    "\n",
    "q0 = np.dot(X,q0)\n",
    "\n",
    "print(\"Final state:\\t\",q0)"
   ]
  },
  {
   "cell_type": "code",
   "execution_count": 7,
   "metadata": {},
   "outputs": [
    {
     "name": "stdout",
     "output_type": "stream",
     "text": [
      "Initial state:\t [1 0]\n",
      "Final state:\t [0.70710678 0.70710678]\n"
     ]
    }
   ],
   "source": [
    "#Implementing H gate\n",
    "q0 = np.array([1,0])\n",
    "\n",
    "print(\"Initial state:\\t\",q0)\n",
    "\n",
    "H = np.array([\n",
    "    [1/np.sqrt(2),1/np.sqrt(2)],\n",
    "    [1/np.sqrt(2),-1/np.sqrt(2)]\n",
    "])\n",
    "\n",
    "q0 = np.dot(H,q0)\n",
    "\n",
    "print(\"Final state:\\t\",q0)"
   ]
  },
  {
   "cell_type": "code",
   "execution_count": 8,
   "metadata": {},
   "outputs": [
    {
     "name": "stdout",
     "output_type": "stream",
     "text": [
      "Initial state: [1, 0, 0, 0, 0, 0, 0, 0]\n",
      "\n",
      "Operator:\n",
      "\n",
      " [[0. 1. 0. 0. 0. 0. 0. 0.]\n",
      " [1. 0. 0. 0. 0. 0. 0. 0.]\n",
      " [0. 0. 0. 1. 0. 0. 0. 0.]\n",
      " [0. 0. 1. 0. 0. 0. 0. 0.]\n",
      " [0. 0. 0. 0. 0. 1. 0. 0.]\n",
      " [0. 0. 0. 0. 1. 0. 0. 0.]\n",
      " [0. 0. 0. 0. 0. 0. 0. 1.]\n",
      " [0. 0. 0. 0. 0. 0. 1. 0.]] \n",
      "\n",
      "Final state: [0. 1. 0. 0. 0. 0. 0. 0.]\n"
     ]
    }
   ],
   "source": [
    "psi = [1, 0, 0, 0, 0, 0, 0, 0]\n",
    "print(\"Initial state:\", psi)\n",
    "\n",
    "\n",
    "# Define X (NOT) gate:\n",
    "\n",
    "X = np.array([\n",
    "[0, 1],\n",
    "[1, 0]\n",
    "])\n",
    "\n",
    "# Define 2x2 identity\n",
    "\n",
    "I = np.identity(2)\n",
    "\n",
    "# Calculate operator for X gate acting on third qubit in 3-qubit circuit\n",
    "\n",
    "O = np.kron(np.kron(I, I), X)\n",
    "\n",
    "print(\"\\nOperator:\\n\\n\", O, \"\\n\")\n",
    "\n",
    "\n",
    "# And finally, apply operator\n",
    "\n",
    "psi = np.dot(psi, O)\n",
    "print(\"Final state:\", psi)"
   ]
  },
  {
   "cell_type": "code",
   "execution_count": null,
   "metadata": {},
   "outputs": [],
   "source": []
  },
  {
   "cell_type": "code",
   "execution_count": 61,
   "metadata": {},
   "outputs": [],
   "source": [
    "###########################################################################################################################\n",
    "#FINAL PROGRAM#\n",
    "def get_ground_state(num_qubits):\n",
    "    # return vector of size 2**num_qubits with all zeroes except first element which is 1\n",
    "    q_gnd = [0] * 2**(num_qubits)\n",
    "    q_gnd[0] = 1\n",
    "    return q_gnd\n",
    "\n",
    "def get_operator(total_qubit, gate_unitary, target_qubit):\n",
    "    # return unitary operator of size 2**n x 2**n for given gate and target qubits\n",
    "    # single qubit\n",
    "    I = np.identity(2)\n",
    "    for i in range(1,total_qubit+1):\n",
    "        operator = I\n",
    "        if((i == 1) & (target_qubit == 1) &(total_qubit == 1)):\n",
    "            operator = gate_unitary\n",
    "        if(i == target_qubit):\n",
    "            operator = np.kron(operator,gate_unitary)\n",
    "        operator = np.kron(operator,I)\n",
    "    return operator\n",
    "\n",
    "def run_program(initial_state, program):\n",
    "    # read program, and for each gate:\n",
    "    #   - calculate matrix operator\n",
    "    #   - multiply state with operator\n",
    "    # return final state\n",
    "    return\n",
    "\n",
    "def measure_all(state_vector):\n",
    "    # choose element from state_vector using weighted random and return it's index\n",
    "    return\n",
    "\n",
    "def get_counts(state_vector, num_shots):\n",
    "    # simply execute measure_all in a loop num_shots times and\n",
    "    # return object with statistics in following form:\n",
    "    #   {\n",
    "    #      element_index: number_of_ocurrences,\n",
    "    #      element_index: number_of_ocurrences,\n",
    "    #      element_index: number_of_ocurrences,\n",
    "    #      ...\n",
    "    #   }\n",
    "    # (only for elements which occoured - returned from measure_all)\n",
    "    return"
   ]
  },
  {
   "cell_type": "code",
   "execution_count": 62,
   "metadata": {},
   "outputs": [
    {
     "data": {
      "text/plain": [
       "array([[1., 0., 0., 0.],\n",
       "       [0., 1., 0., 0.],\n",
       "       [0., 0., 1., 0.],\n",
       "       [0., 0., 0., 1.]])"
      ]
     },
     "execution_count": 62,
     "metadata": {},
     "output_type": "execute_result"
    }
   ],
   "source": [
    "get_ground_state(2)\n",
    "get_operator(2, [[0,1],[1,0]], 1)"
   ]
  },
  {
   "cell_type": "code",
   "execution_count": null,
   "metadata": {},
   "outputs": [],
   "source": []
  },
  {
   "cell_type": "code",
   "execution_count": null,
   "metadata": {},
   "outputs": [],
   "source": []
  }
 ],
 "metadata": {
  "kernelspec": {
   "display_name": "Python 3",
   "language": "python",
   "name": "python3"
  },
  "language_info": {
   "codemirror_mode": {
    "name": "ipython",
    "version": 3
   },
   "file_extension": ".py",
   "mimetype": "text/x-python",
   "name": "python",
   "nbconvert_exporter": "python",
   "pygments_lexer": "ipython3",
   "version": "3.7.3"
  }
 },
 "nbformat": 4,
 "nbformat_minor": 2
}
